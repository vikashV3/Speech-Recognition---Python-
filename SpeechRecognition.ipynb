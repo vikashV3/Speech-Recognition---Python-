{
 "cells": [
  {
   "cell_type": "code",
   "execution_count": 29,
   "metadata": {},
   "outputs": [
    {
     "data": {
      "text/plain": [
       "'student with coloured frocks the peace League made you discussed appliance the rise to Fame'"
      ]
     },
     "execution_count": 29,
     "metadata": {},
     "output_type": "execute_result"
    }
   ],
   "source": [
    "import speech_recognition as sr \n",
    "r=sr.Recognizer()\n",
    "audiosource=sr.AudioFile('C:/Users/mishr/Desktop/testaudio1.wav')\n",
    "with audiosource as source:\n",
    "    r.adjust_for_ambient_noise(source,duration=0.5)\n",
    "    audio1=r.record(source,duration=10)\n",
    "    audio2=r.record(source,duration=5)\n",
    "    audio3=r.record(source,offset=5)\n",
    "r.recognize_google(audio1)"
   ]
  },
  {
   "cell_type": "code",
   "execution_count": 30,
   "metadata": {},
   "outputs": [
    {
     "data": {
      "text/plain": [
       "'scares so right with much care'"
      ]
     },
     "execution_count": 30,
     "metadata": {},
     "output_type": "execute_result"
    }
   ],
   "source": [
    "r.recognize_google(audio2)"
   ]
  },
  {
   "cell_type": "code",
   "execution_count": 31,
   "metadata": {},
   "outputs": [
    {
     "data": {
      "text/plain": [
       "'Scotch Brite per asse on a status needed time brings many changes the proposed I was 10 years old men singing and playing and sometimes at'"
      ]
     },
     "execution_count": 31,
     "metadata": {},
     "output_type": "execute_result"
    }
   ],
   "source": [
    "r.recognize_google(audio3)"
   ]
  },
  {
   "cell_type": "code",
   "execution_count": 41,
   "metadata": {},
   "outputs": [],
   "source": [
    "newaudio=sr.AudioFile('C:/Users/mishr/Desktop/testaudio1.wav')\n",
    "with newaudio  as source:\n",
    "    r.adjust_for_ambient_noise(source,duration=0.5)\n",
    "    audio1=r.record(source,duration=9)\n",
    "    audio2=r.record(source,duration=5)\n",
    "    audio3=r.record(source,duration=10)\n"
   ]
  },
  {
   "cell_type": "code",
   "execution_count": 42,
   "metadata": {},
   "outputs": [
    {
     "data": {
      "text/plain": [
       "{'alternative': [{'transcript': '6 black squares'},\n",
       "  {'transcript': 'thanks black squares'},\n",
       "  {'transcript': 'black squares'},\n",
       "  {'transcript': '36 black squares'},\n",
       "  {'transcript': 'text black squares'},\n",
       "  {'transcript': '600005 scares'},\n",
       "  {'transcript': 'x black squares'},\n",
       "  {'transcript': 'tanks black squares'},\n",
       "  {'transcript': 'the black squares'},\n",
       "  {'transcript': 'thanks black box'}],\n",
       " 'final': True}"
      ]
     },
     "execution_count": 42,
     "metadata": {},
     "output_type": "execute_result"
    }
   ],
   "source": [
    "r.recognize_google(audio2,show_all=True)"
   ]
  },
  {
   "cell_type": "code",
   "execution_count": null,
   "metadata": {},
   "outputs": [],
   "source": []
  }
 ],
 "metadata": {
  "kernelspec": {
   "display_name": "Python 3",
   "language": "python",
   "name": "python3"
  },
  "language_info": {
   "codemirror_mode": {
    "name": "ipython",
    "version": 3
   },
   "file_extension": ".py",
   "mimetype": "text/x-python",
   "name": "python",
   "nbconvert_exporter": "python",
   "pygments_lexer": "ipython3",
   "version": "3.7.3"
  }
 },
 "nbformat": 4,
 "nbformat_minor": 2
}
