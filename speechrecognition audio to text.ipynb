{
 "cells": [
  {
   "cell_type": "code",
   "execution_count": 24,
   "metadata": {},
   "outputs": [
    {
     "data": {
      "text/plain": [
       "'best elss Mela old beer drinkers'"
      ]
     },
     "execution_count": 24,
     "metadata": {},
     "output_type": "execute_result"
    }
   ],
   "source": [
    "import speech_recognition as sr\n",
    "r=sr.Recognizer()\n",
    "test=sr.AudioFile('C:/Users/mishr/Desktop/harvard.wav')\n",
    "with test as source:\n",
    "    r.adjust_for_ambient_noise(source,duration=0.5)\n",
    "    audio1=r.record(source,duration=4)\n",
    "    audio2=r.record(source,duration=4)\n",
    "    audio3=r.record(source,offset=3,duration=5)\n",
    "r.recognize_google(audio1)"
   ]
  },
  {
   "cell_type": "code",
   "execution_count": 21,
   "metadata": {},
   "outputs": [
    {
     "data": {
      "text/plain": [
       "'take me to bring out the order I call dip'"
      ]
     },
     "execution_count": 21,
     "metadata": {},
     "output_type": "execute_result"
    }
   ],
   "source": [
    "r.recognize_google(audio2)"
   ]
  },
  {
   "cell_type": "code",
   "execution_count": 22,
   "metadata": {},
   "outputs": [
    {
     "data": {
      "text/plain": [
       "{'alternative': [{'transcript': 'my favourite is just for food',\n",
       "   'confidence': 0.82348061},\n",
       "  {'transcript': 'my favourite is just for food is'},\n",
       "  {'transcript': 'faster my favourite is just for food'},\n",
       "  {'transcript': 'because of my favourite is just for food'},\n",
       "  {'transcript': 'restore my favourite is just for food'}],\n",
       " 'final': True}"
      ]
     },
     "execution_count": 22,
     "metadata": {},
     "output_type": "execute_result"
    }
   ],
   "source": [
    "r.recognize_google(audio3,show_all=True)"
   ]
  },
  {
   "cell_type": "code",
   "execution_count": null,
   "metadata": {},
   "outputs": [],
   "source": []
  }
 ],
 "metadata": {
  "kernelspec": {
   "display_name": "Python 3",
   "language": "python",
   "name": "python3"
  },
  "language_info": {
   "codemirror_mode": {
    "name": "ipython",
    "version": 3
   },
   "file_extension": ".py",
   "mimetype": "text/x-python",
   "name": "python",
   "nbconvert_exporter": "python",
   "pygments_lexer": "ipython3",
   "version": "3.7.3"
  }
 },
 "nbformat": 4,
 "nbformat_minor": 2
}
